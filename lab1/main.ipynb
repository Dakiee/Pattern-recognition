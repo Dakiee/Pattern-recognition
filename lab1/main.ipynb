{
 "cells": [
  {
   "cell_type": "code",
   "execution_count": null,
   "metadata": {},
   "outputs": [],
   "source": [
    "import cv2\n",
    "import numpy as np\n",
    "\n",
    "# Өнгөт зургаа унших\n",
    "img1 = cv2.imread('flower.jpg')\n",
    "img2 = cv2.imread('flower1.jpg')\n",
    "\n",
    "# Зургийг саарал өнгөтэй болгож хувиргах\n",
    "gray_image1 = cv2.cvtColor(img1, cv2.COLOR_RGB2GRAY)\n",
    "gray_image2 = cv2.cvtColor(img2, cv2.COLOR_RGB2GRAY)\n",
    "\n",
    "# Зургуудын дундажийг олохын тулд ижил хэмжээтэй болгох\n",
    "gray_image1 = cv2.resize(gray_image1, [400, 500])\n",
    "gray_image2 = cv2.resize(gray_image2, [400, 500])\n",
    "\n",
    "# Зургуудын дундажийг олохын тулд ижил хэмжээтэй болгох\n",
    "avg_img = gray_image1/2 + gray_image2/2\n",
    "\n",
    "# Зураг 1 болон 2 ийн дундаж зурагнаас хэр ялгаатайг олж байна \n",
    "img1_sub = avg_img - gray_image1\n",
    "img2_sub = avg_img - gray_image2\n",
    "\n",
    "# Саарал өнгийн зургийг result дотор хадгалах\n",
    "cv2.imwrite('result/flower_grayscale_1.jpg', img1_sub)\n",
    "cv2.imwrite('result/flower_grayscale_2.jpg', img2_sub)\n"
   ]
  },
  {
   "cell_type": "code",
   "execution_count": null,
   "metadata": {},
   "outputs": [],
   "source": [
    "import cv2\n",
    "import glob\n",
    "\n",
    "# Folder доторх бүх jpg өргөтөлтэй файлуудын нэрийг хүснэгт болгон авч байна\n",
    "jpgFilenamesList = glob.glob('*.jpg')\n",
    "\n",
    "# Нийт дундажийн хувьсагч\n",
    "avg_img = 0\n",
    "\n",
    "# Нийт зургийн дундажийн хувьсагч\n",
    "total_img = len(jpgFilenamesList)\n",
    "\n",
    "# Нийт зургийн хэмжээгээр давталт гүйлгэх\n",
    "for i in range(len(jpgFilenamesList)):\n",
    "    img = cv2.imread(f'{jpgFilenamesList[i]}')\n",
    "    grayscale_img = cv2.cvtColor(img, cv2.COLOR_RGB2GRAY)\n",
    "    resized_img = cv2.resize(grayscale_img, [400, 500])\n",
    "    avg_img = avg_img + (resized_img/total_img)\n",
    "\n",
    "for j in range(len(jpgFilenamesList)):\n",
    "    img = cv2.imread(f'{jpgFilenamesList[j]}')\n",
    "    grayscale_img = cv2.cvtColor(img, cv2.COLOR_RGB2GRAY)\n",
    "    resized_img = cv2.resize(grayscale_img, [400, 500])\n",
    "    img_sub = avg_img - resized_img\n",
    "    cv2.imwrite(f'result2/img{j}.jpg', img_sub)\n"
   ]
  }
 ],
 "metadata": {
  "kernelspec": {
   "display_name": "Python 3",
   "language": "python",
   "name": "python3"
  },
  "language_info": {
   "name": "python",
   "version": "3.9.13"
  },
  "orig_nbformat": 4,
  "vscode": {
   "interpreter": {
    "hash": "3feac6e0d8fbb68704c37e59291151cd68d8a52df3ca003f9475a2620e9829fe"
   }
  }
 },
 "nbformat": 4,
 "nbformat_minor": 2
}
